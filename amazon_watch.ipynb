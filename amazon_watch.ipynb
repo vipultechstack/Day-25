{
 "cells": [
  {
   "cell_type": "code",
   "execution_count": 2,
   "id": "f01160c4",
   "metadata": {},
   "outputs": [
    {
     "ename": "ModuleNotFoundError",
     "evalue": "No module named 'selenium'",
     "output_type": "error",
     "traceback": [
      "\u001b[1;31m---------------------------------------------------------------------------\u001b[0m",
      "\u001b[1;31mModuleNotFoundError\u001b[0m                       Traceback (most recent call last)",
      "Cell \u001b[1;32mIn[2], line 1\u001b[0m\n\u001b[1;32m----> 1\u001b[0m \u001b[38;5;28;01mfrom\u001b[39;00m \u001b[38;5;21;01mselenium\u001b[39;00m \u001b[38;5;28;01mimport\u001b[39;00m webdriver\n\u001b[0;32m      2\u001b[0m \u001b[38;5;28;01mfrom\u001b[39;00m \u001b[38;5;21;01mselenium\u001b[39;00m\u001b[38;5;21;01m.\u001b[39;00m\u001b[38;5;21;01mwebdriver\u001b[39;00m\u001b[38;5;21;01m.\u001b[39;00m\u001b[38;5;21;01mchrome\u001b[39;00m\u001b[38;5;21;01m.\u001b[39;00m\u001b[38;5;21;01mservice\u001b[39;00m \u001b[38;5;28;01mimport\u001b[39;00m Service\n\u001b[0;32m      3\u001b[0m \u001b[38;5;28;01mfrom\u001b[39;00m \u001b[38;5;21;01mselenium\u001b[39;00m\u001b[38;5;21;01m.\u001b[39;00m\u001b[38;5;21;01mwebdriver\u001b[39;00m\u001b[38;5;21;01m.\u001b[39;00m\u001b[38;5;21;01mchrome\u001b[39;00m\u001b[38;5;21;01m.\u001b[39;00m\u001b[38;5;21;01moptions\u001b[39;00m \u001b[38;5;28;01mimport\u001b[39;00m Options\n",
      "\u001b[1;31mModuleNotFoundError\u001b[0m: No module named 'selenium'"
     ]
    }
   ],
   "source": [
    "from selenium import webdriver\n",
    "from selenium.webdriver.chrome.service import Service\n",
    "from selenium.webdriver.chrome.options import Options\n",
    "from selenium.webdriver.common.by import By\n",
    "import random\n",
    "import pandas as pd\n",
    "import time"
   ]
  },
  {
   "cell_type": "code",
   "execution_count": null,
   "id": "3d4b67c3",
   "metadata": {},
   "outputs": [
    {
     "name": "stdout",
     "output_type": "stream",
     "text": [
      "Scraping page-1\n",
      "Scraping page-2\n",
      "Scraping page-3\n",
      "File Saved\n"
     ]
    }
   ],
   "source": [
    "options = Options()\n",
    "options.add_argument('--start-maximized')\n",
    "options.add_argument('--disable-gpu')\n",
    "options.add_argument('--disable-blink-feature=AutomationControlled')\n",
    "options.add_argument('--on-sandbox')\n",
    "\n",
    "service = Service('C:/Users/hp/chromedriver-win64/chromedriver.exe')\n",
    "\n",
    "driver = webdriver.Chrome(service=service, options=options)\n",
    "\n",
    "main_url = 'https://www.amazon.in/s?k=watch+for+man'\n",
    "\n",
    "all_products = []\n",
    "\n",
    "for page in range (1,4):\n",
    "    print(f'Scraping page-{page}')\n",
    "    driver.get(f'{main_url}&page={page}')\n",
    "    time.sleep(5)\n",
    "\n",
    "    products = driver.find_elements(By.XPATH, \"//div[@data-component-type='s-search-result']\")\n",
    "\n",
    "    for product in products:\n",
    "        try:\n",
    "            image = product.find_element(By.CSS_SELECTOR,'img.s-image').get_attribute('src')\n",
    "\n",
    "        except:\n",
    "            image = None\n",
    "\n",
    "        try:\n",
    "            price = product.find_element(By.XPATH, 'a-price-whole').text\n",
    "        except:\n",
    "            price = None\n",
    "\n",
    "        try:\n",
    "            brand = product.find_element(By.CLASS_NAME, 'a-size-base-plus.a-color-base')\n",
    "\n",
    "        except:\n",
    "            brand = \"NA\"\n",
    "\n",
    "        all_products.append({'Brand':brand,'Image':image,\"Price\":price})\n",
    "\n",
    "\n",
    "df = pd.DataFrame(all_products)\n",
    "df.to_csv('amazon_watch.csv', index=False, encoding='utf-8')\n",
    "print(\"File Saved\")\n",
    "\n",
    "\n"
   ]
  }
 ],
 "metadata": {
  "kernelspec": {
   "display_name": "base",
   "language": "python",
   "name": "python3"
  },
  "language_info": {
   "codemirror_mode": {
    "name": "ipython",
    "version": 3
   },
   "file_extension": ".py",
   "mimetype": "text/x-python",
   "name": "python",
   "nbconvert_exporter": "python",
   "pygments_lexer": "ipython3",
   "version": "3.12.7"
  }
 },
 "nbformat": 4,
 "nbformat_minor": 5
}
