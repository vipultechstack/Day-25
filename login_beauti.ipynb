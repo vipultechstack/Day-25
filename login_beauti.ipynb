{
 "cells": [
  {
   "cell_type": "code",
   "execution_count": 19,
   "id": "f7efc4e2",
   "metadata": {},
   "outputs": [],
   "source": [
    "import requests\n",
    "from bs4 import BeautifulSoup"
   ]
  },
  {
   "cell_type": "code",
   "execution_count": 20,
   "id": "03e6c1e7",
   "metadata": {},
   "outputs": [
    {
     "name": "stdout",
     "output_type": "stream",
     "text": [
      "“The world as we have created it is a process of our thinking. It cannot be changed without changing our thinking.”---Albert Einstein\n",
      "“It is our choices, Harry, that show what we truly are, far more than our abilities.”---J.K. Rowling\n",
      "“There are only two ways to live your life. One is as though nothing is a miracle. The other is as though everything is a miracle.”---Albert Einstein\n",
      "“The person, be it gentleman or lady, who has not pleasure in a good novel, must be intolerably stupid.”---Jane Austen\n",
      "“Imperfection is beauty, madness is genius and it's better to be absolutely ridiculous than absolutely boring.”---Marilyn Monroe\n",
      "“Try not to become a man of success. Rather become a man of value.”---Albert Einstein\n",
      "“It is better to be hated for what you are than to be loved for what you are not.”---André Gide\n",
      "“I have not failed. I've just found 10,000 ways that won't work.”---Thomas A. Edison\n",
      "“A woman is like a tea bag; you never know how strong it is until it's in hot water.”---Eleanor Roosevelt\n",
      "“A day without sunshine is like, you know, night.”---Steve Martin\n"
     ]
    }
   ],
   "source": [
    "session = requests.Session()\n",
    "\n",
    "login_url = \"https://quotes.toscrape.com/login\"\n",
    "\n",
    "headers = {'User-Agent': 'Mozilla/5.0'}\n",
    "\n",
    "resopnse = session.get(login_url, headers=headers)\n",
    "\n",
    "soup = BeautifulSoup(resopnse.text, \"html.parser\")\n",
    "\n",
    "token = soup.find('input', {'name':'csrf_token'})['value']\n",
    "\n",
    "payload = {\n",
    "    'username':'admin',\n",
    "    'password':'admin',\n",
    "    'token':token\n",
    "}\n",
    "\n",
    "session.post(login_url, data=payload)\n",
    "\n",
    "protected_url = \"https://quotes.toscrape.com/\"\n",
    "\n",
    "res = session.get(protected_url)\n",
    "\n",
    "new_soup = BeautifulSoup(res.text,\"html.parser\")\n",
    "\n",
    "quotes = new_soup.find_all('div', class_='quote')\n",
    "\n",
    "for quote in quotes:\n",
    "\n",
    "    text = quote.find('span',class_='text').text\n",
    "\n",
    "    author = quote.find('small', class_='author').text\n",
    "\n",
    "    print(f'{text}---{author}')"
   ]
  },
  {
   "cell_type": "code",
   "execution_count": 21,
   "id": "ed74b929",
   "metadata": {},
   "outputs": [],
   "source": [
    "from selenium import webdriver\n",
    "from selenium.webdriver.chrome.service import Service\n",
    "from selenium.webdriver.chrome.options import Options\n",
    "from selenium.webdriver.common.by import By"
   ]
  },
  {
   "cell_type": "code",
   "execution_count": null,
   "id": "dce93533",
   "metadata": {},
   "outputs": [
    {
     "name": "stdout",
     "output_type": "stream",
     "text": [
      "“The world as we have created it is a process of our thinking. It cannot be changed without changing our thinking.”--Albert Einstein\n",
      "“It is our choices, Harry, that show what we truly are, far more than our abilities.”--J.K. Rowling\n",
      "“There are only two ways to live your life. One is as though nothing is a miracle. The other is as though everything is a miracle.”--Albert Einstein\n",
      "“The person, be it gentleman or lady, who has not pleasure in a good novel, must be intolerably stupid.”--Jane Austen\n",
      "“Imperfection is beauty, madness is genius and it's better to be absolutely ridiculous than absolutely boring.”--Marilyn Monroe\n",
      "“Try not to become a man of success. Rather become a man of value.”--Albert Einstein\n",
      "“It is better to be hated for what you are than to be loved for what you are not.”--André Gide\n",
      "“I have not failed. I've just found 10,000 ways that won't work.”--Thomas A. Edison\n",
      "“A woman is like a tea bag; you never know how strong it is until it's in hot water.”--Eleanor Roosevelt\n",
      "“A day without sunshine is like, you know, night.”--Steve Martin\n"
     ]
    }
   ],
   "source": [
    "service = Service('C:/Users/hp/chromedriver-win64/chromedriver.exe')\n",
    "\n",
    "driver = webdriver.Chrome(service=service)\n",
    "\n",
    "driver.get('https://quotes.toscrape.com/login')\n",
    "\n",
    "driver.find_element(By.NAME, 'username').send_keys('admin')\n",
    "\n",
    "driver.find_element(By.NAME, 'password').send_keys('admin')\n",
    "\n",
    "driver.find_element(By.CSS_SELECTOR, \"input[type='submit']\").click()\n",
    "\n",
    "driver.get('https://quotes.toscrape.com/')\n",
    "\n",
    "quotes = driver.find_elements(By.CLASS_NAME, 'quote')\n",
    "\n",
    "for q in quotes:\n",
    "\n",
    "    text = q.find_element(By.CLASS_NAME, 'text').text\n",
    "\n",
    "    author = q.find_element(By.CLASS_NAME, 'author').text\n",
    "\n",
    "    print(f'{text}--{author}')\n"
   ]
  }
 ],
 "metadata": {
  "kernelspec": {
   "display_name": "base",
   "language": "python",
   "name": "python3"
  },
  "language_info": {
   "codemirror_mode": {
    "name": "ipython",
    "version": 3
   },
   "file_extension": ".py",
   "mimetype": "text/x-python",
   "name": "python",
   "nbconvert_exporter": "python",
   "pygments_lexer": "ipython3",
   "version": "3.12.7"
  }
 },
 "nbformat": 4,
 "nbformat_minor": 5
}
