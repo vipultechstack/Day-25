{
 "cells": [
  {
   "cell_type": "code",
   "execution_count": 1,
   "id": "42c4816a",
   "metadata": {},
   "outputs": [],
   "source": [
    "from urllib.request import urlopen\n",
    "from bs4 import BeautifulSoup"
   ]
  },
  {
   "cell_type": "code",
   "execution_count": 4,
   "id": "74305349",
   "metadata": {},
   "outputs": [],
   "source": [
    "url = \"https://www.amazon.in/minitv\"\n",
    "\n",
    "response = urlopen(url)\n",
    "\n",
    "soup = BeautifulSoup(response.read(),\"html.parser\")"
   ]
  },
  {
   "cell_type": "code",
   "execution_count": 7,
   "id": "7ee4b014",
   "metadata": {},
   "outputs": [
    {
     "name": "stdout",
     "output_type": "stream",
     "text": [
      "Trending Top 10\n",
      "Popular Web Series\n",
      "New in Dubbed Series\n",
      "Horror, Thriller & Mystery \n"
     ]
    }
   ],
   "source": [
    "mini = soup.find_all('div', class_='List_listHeader__BxCkS')\n",
    "\n",
    "for m in mini:\n",
    "\n",
    "    text = m.h2.text\n",
    "\n",
    "    print(text)"
   ]
  }
 ],
 "metadata": {
  "kernelspec": {
   "display_name": "base",
   "language": "python",
   "name": "python3"
  },
  "language_info": {
   "codemirror_mode": {
    "name": "ipython",
    "version": 3
   },
   "file_extension": ".py",
   "mimetype": "text/x-python",
   "name": "python",
   "nbconvert_exporter": "python",
   "pygments_lexer": "ipython3",
   "version": "3.12.7"
  }
 },
 "nbformat": 4,
 "nbformat_minor": 5
}
